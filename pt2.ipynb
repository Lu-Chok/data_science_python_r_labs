{
  "cells": [
    {
      "cell_type": "code",
      "execution_count": 1,
      "metadata": {
        "colab": {
          "base_uri": "https://localhost:8080/"
        },
        "id": "Qr9gQqxidSA9",
        "outputId": "2140633e-4bb8-47f1-f1b4-f87a3e8c4d35"
      },
      "outputs": [
        {
          "name": "stdout",
          "output_type": "stream",
          "text": [
            "Requirement already satisfied: pandas in /usr/local/lib/python3.10/site-packages (from -r requirements.txt (line 1)) (1.5.2)\n",
            "Requirement already satisfied: plotly in /usr/local/lib/python3.10/site-packages (from -r requirements.txt (line 2)) (5.11.0)\n",
            "Requirement already satisfied: rpy2==3.5.1 in /usr/local/lib/python3.10/site-packages (from -r requirements.txt (line 3)) (3.5.1)\n",
            "Requirement already satisfied: pytz in /usr/local/lib/python3.10/site-packages (from rpy2==3.5.1->-r requirements.txt (line 3)) (2022.6)\n",
            "Requirement already satisfied: cffi>=1.10.0 in /usr/local/lib/python3.10/site-packages (from rpy2==3.5.1->-r requirements.txt (line 3)) (1.15.1)\n",
            "Requirement already satisfied: tzlocal in /usr/local/lib/python3.10/site-packages (from rpy2==3.5.1->-r requirements.txt (line 3)) (4.2)\n",
            "Requirement already satisfied: jinja2 in /usr/local/lib/python3.10/site-packages (from rpy2==3.5.1->-r requirements.txt (line 3)) (3.1.2)\n",
            "Requirement already satisfied: numpy>=1.21.0 in /usr/local/lib/python3.10/site-packages (from pandas->-r requirements.txt (line 1)) (1.23.4)\n",
            "Requirement already satisfied: python-dateutil>=2.8.1 in /usr/local/lib/python3.10/site-packages (from pandas->-r requirements.txt (line 1)) (2.8.2)\n",
            "Requirement already satisfied: tenacity>=6.2.0 in /usr/local/lib/python3.10/site-packages (from plotly->-r requirements.txt (line 2)) (8.1.0)\n",
            "Requirement already satisfied: pycparser in /usr/local/lib/python3.10/site-packages (from cffi>=1.10.0->rpy2==3.5.1->-r requirements.txt (line 3)) (2.21)\n",
            "Requirement already satisfied: six>=1.5 in /usr/local/lib/python3.10/site-packages (from python-dateutil>=2.8.1->pandas->-r requirements.txt (line 1)) (1.16.0)\n",
            "Requirement already satisfied: MarkupSafe>=2.0 in /usr/local/lib/python3.10/site-packages (from jinja2->rpy2==3.5.1->-r requirements.txt (line 3)) (2.1.1)\n",
            "Requirement already satisfied: pytz-deprecation-shim in /usr/local/lib/python3.10/site-packages (from tzlocal->rpy2==3.5.1->-r requirements.txt (line 3)) (0.1.0.post0)\n",
            "Requirement already satisfied: tzdata in /usr/local/lib/python3.10/site-packages (from pytz-deprecation-shim->tzlocal->rpy2==3.5.1->-r requirements.txt (line 3)) (2022.7)\n",
            "\n",
            "\u001b[1m[\u001b[0m\u001b[34;49mnotice\u001b[0m\u001b[1;39;49m]\u001b[0m\u001b[39;49m A new release of pip available: \u001b[0m\u001b[31;49m22.2.2\u001b[0m\u001b[39;49m -> \u001b[0m\u001b[32;49m22.3.1\u001b[0m\n",
            "\u001b[1m[\u001b[0m\u001b[34;49mnotice\u001b[0m\u001b[1;39;49m]\u001b[0m\u001b[39;49m To update, run: \u001b[0m\u001b[32;49mpython3.10 -m pip install --upgrade pip\u001b[0m\n"
          ]
        }
      ],
      "source": [
        "!pip3 install -r requirements.txt"
      ]
    },
    {
      "cell_type": "code",
      "execution_count": 2,
      "metadata": {
        "id": "oJgtLKNOdt2I"
      },
      "outputs": [
        {
          "name": "stderr",
          "output_type": "stream",
          "text": [
            "Во время загрузки - Предупреждения:\n",
            "1: Setting LC_COLLATE failed, using \"C\" \n",
            "2: Setting LC_TIME failed, using \"C\" \n",
            "3: Setting LC_MESSAGES failed, using \"C\" \n",
            "4: Setting LC_MONETARY failed, using \"C\" \n"
          ]
        }
      ],
      "source": [
        "%load_ext rpy2.ipython"
      ]
    },
    {
      "cell_type": "markdown",
      "metadata": {
        "id": "MYsP1buIdi6q"
      },
      "source": [
        "# Part 1"
      ]
    },
    {
      "cell_type": "markdown",
      "metadata": {
        "id": "tqJY5qHFMMlq"
      },
      "source": [
        "Write a function named pollutantmean that calculates the mean of a pollutant (sulfate or\n",
        "nitrate) across a specified list of monitors. The function pollutantmean takes three arguments:\n",
        "directory, pollutant, and id. Given a vector monitor ID numbers, pollutantmean reads\n",
        "that monitors’ particulate matter data from the directory specified in the directory argument\n",
        "and returns the mean of the pollutant across all of the monitors, ignoring any missing values\n",
        "coded as NA."
      ]
    },
    {
      "cell_type": "code",
      "execution_count": 3,
      "metadata": {
        "id": "tWsOrLJ9MLnc"
      },
      "outputs": [],
      "source": [
        "import glob\n",
        "import os\n",
        "import pandas as pd\n",
        "import numpy as np"
      ]
    },
    {
      "cell_type": "code",
      "execution_count": 20,
      "metadata": {
        "id": "ToFlUmmSdsBd"
      },
      "outputs": [],
      "source": [
        "def pollutantmean(dirname: str, pollunt: str, ids: str) -> int:\n",
        "    indexes = [int(v) for v in ids.split(':')]\n",
        "    start, stop = (indexes[0], indexes[0]) if len(indexes) == 1 else indexes\n",
        "\n",
        "    id = list(range(start, stop+1))\n",
        "\n",
        "    total = 0\n",
        "    counter = 0\n",
        "    \n",
        "    files =[str(i).zfill(3) for i in id]\n",
        "\n",
        "    for file in files:\n",
        "            data = pd.read_csv(f'{dirname}/{file}.csv')\n",
        "            total += data[pollunt].sum()\n",
        "            counter += data[pollunt].count()\n",
        "    \n",
        "    return total/counter\n"
      ]
    },
    {
      "cell_type": "code",
      "execution_count": 21,
      "metadata": {
        "colab": {
          "base_uri": "https://localhost:8080/"
        },
        "id": "hdwTazyVRIqp",
        "outputId": "564bd35d-9c49-425c-a4c7-c22dca04b3a1"
      },
      "outputs": [
        {
          "data": {
            "text/plain": [
              "4.06412824256036"
            ]
          },
          "execution_count": 21,
          "metadata": {},
          "output_type": "execute_result"
        }
      ],
      "source": [
        "pollutantmean('data/specdata', 'sulfate', \"1:10\")"
      ]
    },
    {
      "cell_type": "code",
      "execution_count": 22,
      "metadata": {
        "colab": {
          "base_uri": "https://localhost:8080/"
        },
        "id": "fDrUF212VQUc",
        "outputId": "25ce07d2-fe7c-4780-f39a-53686e512f34"
      },
      "outputs": [
        {
          "data": {
            "text/plain": [
              "1.7060473516949153"
            ]
          },
          "execution_count": 22,
          "metadata": {},
          "output_type": "execute_result"
        }
      ],
      "source": [
        "pollutantmean('data/specdata', \"nitrate\", \"70:72\")"
      ]
    },
    {
      "cell_type": "code",
      "execution_count": 23,
      "metadata": {
        "colab": {
          "base_uri": "https://localhost:8080/"
        },
        "id": "WO01BjG9VXuN",
        "outputId": "9a25a4bf-8b8c-4f4a-e7ce-5a47df522d86"
      },
      "outputs": [
        {
          "data": {
            "text/plain": [
              "1.2808333333333333"
            ]
          },
          "execution_count": 23,
          "metadata": {},
          "output_type": "execute_result"
        }
      ],
      "source": [
        "pollutantmean('data/specdata', \"nitrate\", \"23\")"
      ]
    },
    {
      "cell_type": "code",
      "execution_count": 25,
      "metadata": {
        "id": "g9zuuP1VVnsA"
      },
      "outputs": [],
      "source": [
        "def complete(dirname, ids):\n",
        "    if type(ids) is str:\n",
        "        start, stop = ids.split(':')\n",
        "        start, stop = int(start), int(stop)\n",
        "        ns = range(start, stop+1) if start < stop else range(stop, start+1)\n",
        "\n",
        "    elif type(ids) is int: ns = [ids]\n",
        "\n",
        "    elif type(ids) is list: ns = ids\n",
        "\n",
        "    else:\n",
        "        raise ValueError(\"Data must be in format 'n', or 'm:n', or '[k, m, n]'\")\n",
        "    \n",
        "    res = pd.DataFrame(columns=['id', 'nobs'])\n",
        "    \n",
        "    for element in ns:\n",
        "        \n",
        "        if element < 10: element_str = '00' + str(element)\n",
        "        if element >= 10 and int(element) < 100: element_str = '0' + str(element)\n",
        "        if element >= 100: element_str = str(element)\n",
        "        \n",
        "        files = glob.glob(f'{dirname}/{element_str}.csv')\n",
        "        dataset = pd.DataFrame()\n",
        "        \n",
        "        for file in files:\n",
        "            data = pd.read_csv(file).dropna()\n",
        "            amount = len(data.index)\n",
        "            list_row = {\"id\":element, \"nobs\":amount}\n",
        "            res.loc[len(res)] = list_row\n",
        "    \n",
        "    return res"
      ]
    },
    {
      "cell_type": "code",
      "execution_count": 17,
      "metadata": {
        "colab": {
          "base_uri": "https://localhost:8080/",
          "height": 206
        },
        "id": "_eebdnUHVqPA",
        "outputId": "9370b406-3528-456e-83a1-72e4657ba54f"
      },
      "outputs": [
        {
          "data": {
            "text/html": [
              "<div>\n",
              "<style scoped>\n",
              "    .dataframe tbody tr th:only-of-type {\n",
              "        vertical-align: middle;\n",
              "    }\n",
              "\n",
              "    .dataframe tbody tr th {\n",
              "        vertical-align: top;\n",
              "    }\n",
              "\n",
              "    .dataframe thead th {\n",
              "        text-align: right;\n",
              "    }\n",
              "</style>\n",
              "<table border=\"1\" class=\"dataframe\">\n",
              "  <thead>\n",
              "    <tr style=\"text-align: right;\">\n",
              "      <th></th>\n",
              "      <th>id</th>\n",
              "      <th>nobs</th>\n",
              "    </tr>\n",
              "  </thead>\n",
              "  <tbody>\n",
              "    <tr>\n",
              "      <th>0</th>\n",
              "      <td>2</td>\n",
              "      <td>1041</td>\n",
              "    </tr>\n",
              "    <tr>\n",
              "      <th>1</th>\n",
              "      <td>4</td>\n",
              "      <td>474</td>\n",
              "    </tr>\n",
              "    <tr>\n",
              "      <th>2</th>\n",
              "      <td>8</td>\n",
              "      <td>192</td>\n",
              "    </tr>\n",
              "    <tr>\n",
              "      <th>3</th>\n",
              "      <td>10</td>\n",
              "      <td>148</td>\n",
              "    </tr>\n",
              "    <tr>\n",
              "      <th>4</th>\n",
              "      <td>12</td>\n",
              "      <td>96</td>\n",
              "    </tr>\n",
              "  </tbody>\n",
              "</table>\n",
              "</div>"
            ],
            "text/plain": [
              "   id  nobs\n",
              "0   2  1041\n",
              "1   4   474\n",
              "2   8   192\n",
              "3  10   148\n",
              "4  12    96"
            ]
          },
          "execution_count": 17,
          "metadata": {},
          "output_type": "execute_result"
        }
      ],
      "source": [
        "complete(\"data/specdata\", [2, 4, 8, 10, 12])"
      ]
    },
    {
      "cell_type": "code",
      "execution_count": 18,
      "metadata": {
        "id": "i5Ug8uByVr2Y"
      },
      "outputs": [],
      "source": [
        "def corr(dirname, threshold):\n",
        "    sulf = []\n",
        "    nitr = []\n",
        "    for i in range(1, 332+1):\n",
        "        if i < 10: i_str = '00' + str(i)\n",
        "        if i >= 10 and int(i) < 100: i_str = '0' + str(i)\n",
        "        if i >= 100: i_str = str(i)\n",
        "        files = glob.glob(f'{dirname}/{i_str}.csv')\n",
        "        dataset = pd.DataFrame()\n",
        "        for file in files:\n",
        "            data = pd.read_csv(file).dropna()\n",
        "            amount = len(data.index)\n",
        "            if amount >= threshold:\n",
        "                sulf += data['sulfate'].tolist()\n",
        "                nitr += data['nitrate'].tolist()\n",
        "            else: continue\n",
        "    if len(sulf) == 0 or len(nitr) == 0: return 0\n",
        "    else: return np.corrcoef(np.array(sulf), np.array(nitr))[0,1] "
      ]
    },
    {
      "cell_type": "code",
      "execution_count": 19,
      "metadata": {
        "colab": {
          "base_uri": "https://localhost:8080/"
        },
        "id": "CHW5DetLVwMQ",
        "outputId": "4584bb0c-6d02-4d24-95b0-6b8d3502fa21"
      },
      "outputs": [
        {
          "data": {
            "text/plain": [
              "0.06069887784423783"
            ]
          },
          "execution_count": 19,
          "metadata": {},
          "output_type": "execute_result"
        }
      ],
      "source": [
        "corr(\"data/specdata\", 150)"
      ]
    }
  ],
  "metadata": {
    "colab": {
      "provenance": []
    },
    "kernelspec": {
      "display_name": "Python 3.9.12 64-bit",
      "language": "python",
      "name": "python3"
    },
    "language_info": {
      "codemirror_mode": {
        "name": "ipython",
        "version": 3
      },
      "file_extension": ".py",
      "mimetype": "text/x-python",
      "name": "python",
      "nbconvert_exporter": "python",
      "pygments_lexer": "ipython3",
      "version": "3.9.12"
    },
    "vscode": {
      "interpreter": {
        "hash": "aee8b7b246df8f9039afb4144a1f6fd8d2ca17a180786b69acc140d282b71a49"
      }
    }
  },
  "nbformat": 4,
  "nbformat_minor": 0
}
