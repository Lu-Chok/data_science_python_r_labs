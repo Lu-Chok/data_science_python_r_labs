{
  "cells": [
    {
      "cell_type": "code",
      "execution_count": 1,
      "metadata": {
        "id": "az_S0IhW-gwC"
      },
      "outputs": [
        {
          "name": "stdout",
          "output_type": "stream",
          "text": [
            "Requirement already satisfied: pandas in /usr/local/lib/python3.10/site-packages (from -r requirements.txt (line 1)) (1.5.2)\n",
            "Requirement already satisfied: plotly in /usr/local/lib/python3.10/site-packages (from -r requirements.txt (line 2)) (5.11.0)\n",
            "Requirement already satisfied: rpy2==3.5.1 in /usr/local/lib/python3.10/site-packages (from -r requirements.txt (line 3)) (3.5.1)\n",
            "Requirement already satisfied: pyreadr in /usr/local/lib/python3.10/site-packages (from -r requirements.txt (line 4)) (0.4.7)\n",
            "Requirement already satisfied: nbformat>=4.2.0 in /usr/local/lib/python3.10/site-packages (from -r requirements.txt (line 5)) (5.7.0)\n",
            "Requirement already satisfied: jinja2 in /usr/local/lib/python3.10/site-packages (from rpy2==3.5.1->-r requirements.txt (line 3)) (3.1.2)\n",
            "Requirement already satisfied: cffi>=1.10.0 in /usr/local/lib/python3.10/site-packages (from rpy2==3.5.1->-r requirements.txt (line 3)) (1.15.1)\n",
            "Requirement already satisfied: tzlocal in /usr/local/lib/python3.10/site-packages (from rpy2==3.5.1->-r requirements.txt (line 3)) (4.2)\n",
            "Requirement already satisfied: pytz in /usr/local/lib/python3.10/site-packages (from rpy2==3.5.1->-r requirements.txt (line 3)) (2022.6)\n",
            "Requirement already satisfied: python-dateutil>=2.8.1 in /usr/local/lib/python3.10/site-packages (from pandas->-r requirements.txt (line 1)) (2.8.2)\n",
            "Requirement already satisfied: numpy>=1.21.0 in /usr/local/lib/python3.10/site-packages (from pandas->-r requirements.txt (line 1)) (1.23.4)\n",
            "Requirement already satisfied: tenacity>=6.2.0 in /usr/local/lib/python3.10/site-packages (from plotly->-r requirements.txt (line 2)) (8.1.0)\n",
            "Requirement already satisfied: jupyter-core in /usr/local/lib/python3.10/site-packages (from nbformat>=4.2.0->-r requirements.txt (line 5)) (5.1.0)\n",
            "Requirement already satisfied: jsonschema>=2.6 in /usr/local/lib/python3.10/site-packages (from nbformat>=4.2.0->-r requirements.txt (line 5)) (4.17.3)\n",
            "Requirement already satisfied: traitlets>=5.1 in /usr/local/lib/python3.10/site-packages (from nbformat>=4.2.0->-r requirements.txt (line 5)) (5.7.1)\n",
            "Requirement already satisfied: fastjsonschema in /usr/local/lib/python3.10/site-packages (from nbformat>=4.2.0->-r requirements.txt (line 5)) (2.16.2)\n",
            "Requirement already satisfied: pycparser in /usr/local/lib/python3.10/site-packages (from cffi>=1.10.0->rpy2==3.5.1->-r requirements.txt (line 3)) (2.21)\n",
            "Requirement already satisfied: pyrsistent!=0.17.0,!=0.17.1,!=0.17.2,>=0.14.0 in /usr/local/lib/python3.10/site-packages (from jsonschema>=2.6->nbformat>=4.2.0->-r requirements.txt (line 5)) (0.19.2)\n",
            "Requirement already satisfied: attrs>=17.4.0 in /usr/local/lib/python3.10/site-packages (from jsonschema>=2.6->nbformat>=4.2.0->-r requirements.txt (line 5)) (22.1.0)\n",
            "Requirement already satisfied: six>=1.5 in /usr/local/lib/python3.10/site-packages (from python-dateutil>=2.8.1->pandas->-r requirements.txt (line 1)) (1.16.0)\n",
            "Requirement already satisfied: MarkupSafe>=2.0 in /usr/local/lib/python3.10/site-packages (from jinja2->rpy2==3.5.1->-r requirements.txt (line 3)) (2.1.1)\n",
            "Requirement already satisfied: platformdirs>=2.5 in /usr/local/lib/python3.10/site-packages (from jupyter-core->nbformat>=4.2.0->-r requirements.txt (line 5)) (2.6.0)\n",
            "Requirement already satisfied: pytz-deprecation-shim in /usr/local/lib/python3.10/site-packages (from tzlocal->rpy2==3.5.1->-r requirements.txt (line 3)) (0.1.0.post0)\n",
            "Requirement already satisfied: tzdata in /usr/local/lib/python3.10/site-packages (from pytz-deprecation-shim->tzlocal->rpy2==3.5.1->-r requirements.txt (line 3)) (2022.7)\n",
            "\n",
            "\u001b[1m[\u001b[0m\u001b[34;49mnotice\u001b[0m\u001b[1;39;49m]\u001b[0m\u001b[39;49m A new release of pip available: \u001b[0m\u001b[31;49m22.2.2\u001b[0m\u001b[39;49m -> \u001b[0m\u001b[32;49m22.3.1\u001b[0m\n",
            "\u001b[1m[\u001b[0m\u001b[34;49mnotice\u001b[0m\u001b[1;39;49m]\u001b[0m\u001b[39;49m To update, run: \u001b[0m\u001b[32;49mpython3.10 -m pip install --upgrade pip\u001b[0m\n"
          ]
        }
      ],
      "source": [
        "!pip3 install -r requirements.txt"
      ]
    },
    {
      "cell_type": "code",
      "execution_count": 2,
      "metadata": {},
      "outputs": [],
      "source": [
        "import pandas as pd"
      ]
    },
    {
      "cell_type": "code",
      "execution_count": 3,
      "metadata": {},
      "outputs": [],
      "source": [
        "df = pd.read_csv('data/airquality.csv')"
      ]
    },
    {
      "cell_type": "markdown",
      "metadata": {
        "id": "SS3vJ6VN6C1b"
      },
      "source": [
        "# Task 1\n",
        "Question 1. What are the column names of the data frame?\n"
      ]
    },
    {
      "cell_type": "code",
      "execution_count": 4,
      "metadata": {
        "colab": {
          "base_uri": "https://localhost:8080/"
        },
        "id": "vL2CyVss-tQ0",
        "outputId": "b8ee24b4-861a-4812-aab1-1adae9cc0a8e"
      },
      "outputs": [
        {
          "data": {
            "text/plain": [
              "['Ozone', 'Solar.R', 'Wind', 'Temp', 'Month', 'Day']"
            ]
          },
          "execution_count": 4,
          "metadata": {},
          "output_type": "execute_result"
        }
      ],
      "source": [
        "list(df.columns)"
      ]
    },
    {
      "cell_type": "markdown",
      "metadata": {
        "id": "CJ_GgiDa6aSO"
      },
      "source": [
        "Question 2. What are the row names of the data frame?"
      ]
    },
    {
      "cell_type": "code",
      "execution_count": 5,
      "metadata": {
        "colab": {
          "base_uri": "https://localhost:8080/"
        },
        "id": "iDl5BKW47OOm",
        "outputId": "20e6f9b4-6eef-4021-d4d8-616d3e38a0c0"
      },
      "outputs": [
        {
          "data": {
            "text/plain": [
              "array([  0,   1,   2,   3,   4,   5,   6,   7,   8,   9,  10,  11,  12,\n",
              "        13,  14,  15,  16,  17,  18,  19,  20,  21,  22,  23,  24,  25,\n",
              "        26,  27,  28,  29,  30,  31,  32,  33,  34,  35,  36,  37,  38,\n",
              "        39,  40,  41,  42,  43,  44,  45,  46,  47,  48,  49,  50,  51,\n",
              "        52,  53,  54,  55,  56,  57,  58,  59,  60,  61,  62,  63,  64,\n",
              "        65,  66,  67,  68,  69,  70,  71,  72,  73,  74,  75,  76,  77,\n",
              "        78,  79,  80,  81,  82,  83,  84,  85,  86,  87,  88,  89,  90,\n",
              "        91,  92,  93,  94,  95,  96,  97,  98,  99, 100, 101, 102, 103,\n",
              "       104, 105, 106, 107, 108, 109, 110, 111, 112, 113, 114, 115, 116,\n",
              "       117, 118, 119, 120, 121, 122, 123, 124, 125, 126, 127, 128, 129,\n",
              "       130, 131, 132, 133, 134, 135, 136, 137, 138, 139, 140, 141, 142,\n",
              "       143, 144, 145, 146, 147, 148, 149, 150, 151, 152])"
            ]
          },
          "execution_count": 5,
          "metadata": {},
          "output_type": "execute_result"
        }
      ],
      "source": [
        "df.index.values"
      ]
    },
    {
      "cell_type": "markdown",
      "metadata": {
        "id": "AzoaqeZg6f0C"
      },
      "source": [
        "Question 3. Extract the first 6 rows of the data frame and print them to the console\n"
      ]
    },
    {
      "cell_type": "code",
      "execution_count": 43,
      "metadata": {
        "colab": {
          "base_uri": "https://localhost:8080/"
        },
        "id": "-5pdHAcKARkH",
        "outputId": "2c55bbec-e3d2-499f-947c-45d2b8bdb2ed"
      },
      "outputs": [
        {
          "data": {
            "text/html": [
              "<div>\n",
              "<style scoped>\n",
              "    .dataframe tbody tr th:only-of-type {\n",
              "        vertical-align: middle;\n",
              "    }\n",
              "\n",
              "    .dataframe tbody tr th {\n",
              "        vertical-align: top;\n",
              "    }\n",
              "\n",
              "    .dataframe thead th {\n",
              "        text-align: right;\n",
              "    }\n",
              "</style>\n",
              "<table border=\"1\" class=\"dataframe\">\n",
              "  <thead>\n",
              "    <tr style=\"text-align: right;\">\n",
              "      <th></th>\n",
              "      <th>Ozone</th>\n",
              "      <th>Solar.R</th>\n",
              "      <th>Wind</th>\n",
              "      <th>Temp</th>\n",
              "      <th>Month</th>\n",
              "      <th>Day</th>\n",
              "    </tr>\n",
              "  </thead>\n",
              "  <tbody>\n",
              "    <tr>\n",
              "      <th>0</th>\n",
              "      <td>41.0</td>\n",
              "      <td>190.0</td>\n",
              "      <td>7.4</td>\n",
              "      <td>67</td>\n",
              "      <td>5</td>\n",
              "      <td>1</td>\n",
              "    </tr>\n",
              "    <tr>\n",
              "      <th>1</th>\n",
              "      <td>36.0</td>\n",
              "      <td>118.0</td>\n",
              "      <td>8.0</td>\n",
              "      <td>72</td>\n",
              "      <td>5</td>\n",
              "      <td>2</td>\n",
              "    </tr>\n",
              "    <tr>\n",
              "      <th>2</th>\n",
              "      <td>12.0</td>\n",
              "      <td>149.0</td>\n",
              "      <td>12.6</td>\n",
              "      <td>74</td>\n",
              "      <td>5</td>\n",
              "      <td>3</td>\n",
              "    </tr>\n",
              "    <tr>\n",
              "      <th>3</th>\n",
              "      <td>18.0</td>\n",
              "      <td>313.0</td>\n",
              "      <td>11.5</td>\n",
              "      <td>62</td>\n",
              "      <td>5</td>\n",
              "      <td>4</td>\n",
              "    </tr>\n",
              "    <tr>\n",
              "      <th>4</th>\n",
              "      <td>NaN</td>\n",
              "      <td>NaN</td>\n",
              "      <td>14.3</td>\n",
              "      <td>56</td>\n",
              "      <td>5</td>\n",
              "      <td>5</td>\n",
              "    </tr>\n",
              "    <tr>\n",
              "      <th>5</th>\n",
              "      <td>28.0</td>\n",
              "      <td>NaN</td>\n",
              "      <td>14.9</td>\n",
              "      <td>66</td>\n",
              "      <td>5</td>\n",
              "      <td>6</td>\n",
              "    </tr>\n",
              "  </tbody>\n",
              "</table>\n",
              "</div>"
            ],
            "text/plain": [
              "   Ozone  Solar.R  Wind  Temp  Month  Day\n",
              "0   41.0    190.0   7.4    67      5    1\n",
              "1   36.0    118.0   8.0    72      5    2\n",
              "2   12.0    149.0  12.6    74      5    3\n",
              "3   18.0    313.0  11.5    62      5    4\n",
              "4    NaN      NaN  14.3    56      5    5\n",
              "5   28.0      NaN  14.9    66      5    6"
            ]
          },
          "execution_count": 43,
          "metadata": {},
          "output_type": "execute_result"
        }
      ],
      "source": [
        "df.head(6)"
      ]
    },
    {
      "cell_type": "markdown",
      "metadata": {
        "id": "KAnVwDp96ph5"
      },
      "source": [
        "Question 4. How many observations (i.e. rows) are in this data frame?\n"
      ]
    },
    {
      "cell_type": "code",
      "execution_count": 11,
      "metadata": {
        "colab": {
          "base_uri": "https://localhost:8080/"
        },
        "id": "YZXdK9toBYRm",
        "outputId": "b04feef8-fae0-470c-8676-9cd3a9013a57"
      },
      "outputs": [
        {
          "data": {
            "text/plain": [
              "153"
            ]
          },
          "execution_count": 11,
          "metadata": {},
          "output_type": "execute_result"
        }
      ],
      "source": [
        "len(df.index)"
      ]
    },
    {
      "cell_type": "markdown",
      "metadata": {
        "id": "W124cYz36r6s"
      },
      "source": [
        "Question 5. Extract the last 6 rows of the data frame and print them to the \n",
        "console"
      ]
    },
    {
      "cell_type": "code",
      "execution_count": 12,
      "metadata": {
        "colab": {
          "base_uri": "https://localhost:8080/"
        },
        "id": "ysjwgGZsBnXN",
        "outputId": "c0a9cc04-f199-4009-dd72-503157deec10"
      },
      "outputs": [
        {
          "data": {
            "text/html": [
              "<div>\n",
              "<style scoped>\n",
              "    .dataframe tbody tr th:only-of-type {\n",
              "        vertical-align: middle;\n",
              "    }\n",
              "\n",
              "    .dataframe tbody tr th {\n",
              "        vertical-align: top;\n",
              "    }\n",
              "\n",
              "    .dataframe thead th {\n",
              "        text-align: right;\n",
              "    }\n",
              "</style>\n",
              "<table border=\"1\" class=\"dataframe\">\n",
              "  <thead>\n",
              "    <tr style=\"text-align: right;\">\n",
              "      <th></th>\n",
              "      <th>Ozone</th>\n",
              "      <th>Solar.R</th>\n",
              "      <th>Wind</th>\n",
              "      <th>Temp</th>\n",
              "      <th>Month</th>\n",
              "      <th>Day</th>\n",
              "    </tr>\n",
              "  </thead>\n",
              "  <tbody>\n",
              "    <tr>\n",
              "      <th>147</th>\n",
              "      <td>14.0</td>\n",
              "      <td>20.0</td>\n",
              "      <td>16.6</td>\n",
              "      <td>63</td>\n",
              "      <td>9</td>\n",
              "      <td>25</td>\n",
              "    </tr>\n",
              "    <tr>\n",
              "      <th>148</th>\n",
              "      <td>30.0</td>\n",
              "      <td>193.0</td>\n",
              "      <td>6.9</td>\n",
              "      <td>70</td>\n",
              "      <td>9</td>\n",
              "      <td>26</td>\n",
              "    </tr>\n",
              "    <tr>\n",
              "      <th>149</th>\n",
              "      <td>NaN</td>\n",
              "      <td>145.0</td>\n",
              "      <td>13.2</td>\n",
              "      <td>77</td>\n",
              "      <td>9</td>\n",
              "      <td>27</td>\n",
              "    </tr>\n",
              "    <tr>\n",
              "      <th>150</th>\n",
              "      <td>14.0</td>\n",
              "      <td>191.0</td>\n",
              "      <td>14.3</td>\n",
              "      <td>75</td>\n",
              "      <td>9</td>\n",
              "      <td>28</td>\n",
              "    </tr>\n",
              "    <tr>\n",
              "      <th>151</th>\n",
              "      <td>18.0</td>\n",
              "      <td>131.0</td>\n",
              "      <td>8.0</td>\n",
              "      <td>76</td>\n",
              "      <td>9</td>\n",
              "      <td>29</td>\n",
              "    </tr>\n",
              "    <tr>\n",
              "      <th>152</th>\n",
              "      <td>20.0</td>\n",
              "      <td>223.0</td>\n",
              "      <td>11.5</td>\n",
              "      <td>68</td>\n",
              "      <td>9</td>\n",
              "      <td>30</td>\n",
              "    </tr>\n",
              "  </tbody>\n",
              "</table>\n",
              "</div>"
            ],
            "text/plain": [
              "     Ozone  Solar.R  Wind  Temp  Month  Day\n",
              "147   14.0     20.0  16.6    63      9   25\n",
              "148   30.0    193.0   6.9    70      9   26\n",
              "149    NaN    145.0  13.2    77      9   27\n",
              "150   14.0    191.0  14.3    75      9   28\n",
              "151   18.0    131.0   8.0    76      9   29\n",
              "152   20.0    223.0  11.5    68      9   30"
            ]
          },
          "execution_count": 12,
          "metadata": {},
          "output_type": "execute_result"
        }
      ],
      "source": [
        "df.tail(6)"
      ]
    },
    {
      "cell_type": "markdown",
      "metadata": {
        "id": "ian3DVg16wGu"
      },
      "source": [
        "Question 6. How many missing values are in the “Ozone” column of this data frame?\n"
      ]
    },
    {
      "cell_type": "code",
      "execution_count": 6,
      "metadata": {
        "colab": {
          "base_uri": "https://localhost:8080/"
        },
        "id": "-e8vZKaGBwOZ",
        "outputId": "4930d6df-db34-40cd-cfb4-2689579106db"
      },
      "outputs": [
        {
          "data": {
            "text/plain": [
              "37"
            ]
          },
          "execution_count": 6,
          "metadata": {},
          "output_type": "execute_result"
        }
      ],
      "source": [
        "df.Ozone.isna().sum()"
      ]
    },
    {
      "cell_type": "markdown",
      "metadata": {
        "id": "aQvEAPEb7Asi"
      },
      "source": [
        "Question 7. What is the mean of the “Ozone” column in this dataset? Exclude missing\n",
        "values (coded as NA) from this calculation.\n"
      ]
    },
    {
      "cell_type": "code",
      "execution_count": 7,
      "metadata": {
        "colab": {
          "base_uri": "https://localhost:8080/"
        },
        "id": "R2zyRR30CF4V",
        "outputId": "6840510b-0113-4668-cd5f-e062bf171f97"
      },
      "outputs": [
        {
          "data": {
            "text/plain": [
              "42.12931034482759"
            ]
          },
          "execution_count": 7,
          "metadata": {},
          "output_type": "execute_result"
        }
      ],
      "source": [
        "df.Ozone.mean(skipna=True)"
      ]
    },
    {
      "cell_type": "markdown",
      "metadata": {
        "id": "VZ8ilwYE7DdB"
      },
      "source": [
        "Question 8. Extract the subset of rows of the data frame where Ozone values are above 31\n",
        "and Temp values are above 90.\n"
      ]
    },
    {
      "cell_type": "code",
      "execution_count": 26,
      "metadata": {
        "colab": {
          "base_uri": "https://localhost:8080/"
        },
        "id": "GyVlfxwbCvjh",
        "outputId": "de2a965b-3d7f-4c51-c26c-6d116c314ab8"
      },
      "outputs": [
        {
          "data": {
            "text/html": [
              "<div>\n",
              "<style scoped>\n",
              "    .dataframe tbody tr th:only-of-type {\n",
              "        vertical-align: middle;\n",
              "    }\n",
              "\n",
              "    .dataframe tbody tr th {\n",
              "        vertical-align: top;\n",
              "    }\n",
              "\n",
              "    .dataframe thead th {\n",
              "        text-align: right;\n",
              "    }\n",
              "</style>\n",
              "<table border=\"1\" class=\"dataframe\">\n",
              "  <thead>\n",
              "    <tr style=\"text-align: right;\">\n",
              "      <th></th>\n",
              "      <th>Ozone</th>\n",
              "      <th>Solar.R</th>\n",
              "      <th>Wind</th>\n",
              "      <th>Temp</th>\n",
              "      <th>Month</th>\n",
              "      <th>Day</th>\n",
              "    </tr>\n",
              "  </thead>\n",
              "  <tbody>\n",
              "    <tr>\n",
              "      <th>68</th>\n",
              "      <td>97.0</td>\n",
              "      <td>267.0</td>\n",
              "      <td>6.3</td>\n",
              "      <td>92</td>\n",
              "      <td>7</td>\n",
              "      <td>8</td>\n",
              "    </tr>\n",
              "    <tr>\n",
              "      <th>69</th>\n",
              "      <td>97.0</td>\n",
              "      <td>272.0</td>\n",
              "      <td>5.7</td>\n",
              "      <td>92</td>\n",
              "      <td>7</td>\n",
              "      <td>9</td>\n",
              "    </tr>\n",
              "    <tr>\n",
              "      <th>119</th>\n",
              "      <td>76.0</td>\n",
              "      <td>203.0</td>\n",
              "      <td>9.7</td>\n",
              "      <td>97</td>\n",
              "      <td>8</td>\n",
              "      <td>28</td>\n",
              "    </tr>\n",
              "    <tr>\n",
              "      <th>120</th>\n",
              "      <td>118.0</td>\n",
              "      <td>225.0</td>\n",
              "      <td>2.3</td>\n",
              "      <td>94</td>\n",
              "      <td>8</td>\n",
              "      <td>29</td>\n",
              "    </tr>\n",
              "    <tr>\n",
              "      <th>121</th>\n",
              "      <td>84.0</td>\n",
              "      <td>237.0</td>\n",
              "      <td>6.3</td>\n",
              "      <td>96</td>\n",
              "      <td>8</td>\n",
              "      <td>30</td>\n",
              "    </tr>\n",
              "    <tr>\n",
              "      <th>122</th>\n",
              "      <td>85.0</td>\n",
              "      <td>188.0</td>\n",
              "      <td>6.3</td>\n",
              "      <td>94</td>\n",
              "      <td>8</td>\n",
              "      <td>31</td>\n",
              "    </tr>\n",
              "    <tr>\n",
              "      <th>123</th>\n",
              "      <td>96.0</td>\n",
              "      <td>167.0</td>\n",
              "      <td>6.9</td>\n",
              "      <td>91</td>\n",
              "      <td>9</td>\n",
              "      <td>1</td>\n",
              "    </tr>\n",
              "    <tr>\n",
              "      <th>124</th>\n",
              "      <td>78.0</td>\n",
              "      <td>197.0</td>\n",
              "      <td>5.1</td>\n",
              "      <td>92</td>\n",
              "      <td>9</td>\n",
              "      <td>2</td>\n",
              "    </tr>\n",
              "    <tr>\n",
              "      <th>125</th>\n",
              "      <td>73.0</td>\n",
              "      <td>183.0</td>\n",
              "      <td>2.8</td>\n",
              "      <td>93</td>\n",
              "      <td>9</td>\n",
              "      <td>3</td>\n",
              "    </tr>\n",
              "    <tr>\n",
              "      <th>126</th>\n",
              "      <td>91.0</td>\n",
              "      <td>189.0</td>\n",
              "      <td>4.6</td>\n",
              "      <td>93</td>\n",
              "      <td>9</td>\n",
              "      <td>4</td>\n",
              "    </tr>\n",
              "  </tbody>\n",
              "</table>\n",
              "</div>"
            ],
            "text/plain": [
              "     Ozone  Solar.R  Wind  Temp  Month  Day\n",
              "68    97.0    267.0   6.3    92      7    8\n",
              "69    97.0    272.0   5.7    92      7    9\n",
              "119   76.0    203.0   9.7    97      8   28\n",
              "120  118.0    225.0   2.3    94      8   29\n",
              "121   84.0    237.0   6.3    96      8   30\n",
              "122   85.0    188.0   6.3    94      8   31\n",
              "123   96.0    167.0   6.9    91      9    1\n",
              "124   78.0    197.0   5.1    92      9    2\n",
              "125   73.0    183.0   2.8    93      9    3\n",
              "126   91.0    189.0   4.6    93      9    4"
            ]
          },
          "execution_count": 26,
          "metadata": {},
          "output_type": "execute_result"
        }
      ],
      "source": [
        "df.query('Ozone > 31 & Temp > 90')"
      ]
    },
    {
      "cell_type": "markdown",
      "metadata": {
        "id": "r55Hh68G7FLL"
      },
      "source": [
        "Question 9. Use a for loop to create a vector of length 6 containing the mean of each column\n",
        "in the data frame (excluding all missing values).\n"
      ]
    },
    {
      "cell_type": "code",
      "execution_count": 28,
      "metadata": {
        "colab": {
          "base_uri": "https://localhost:8080/"
        },
        "id": "3frHAPBIDhKh",
        "outputId": "df666024-16a1-4322-d4c0-2a274844af3b"
      },
      "outputs": [
        {
          "data": {
            "text/plain": [
              "[42.12931034482759,\n",
              " 185.93150684931507,\n",
              " 9.957516339869281,\n",
              " 77.88235294117646,\n",
              " 6.993464052287582,\n",
              " 15.803921568627452]"
            ]
          },
          "execution_count": 28,
          "metadata": {},
          "output_type": "execute_result"
        }
      ],
      "source": [
        "res = [df[column].mean(skipna=True) for column in list(df.columns)]\n",
        "\n",
        "res"
      ]
    },
    {
      "cell_type": "markdown",
      "metadata": {
        "id": "XEiJg2Wg7HVM"
      },
      "source": [
        "Question 10. Use the apply function to calculate the standard deviation of each column in\n",
        "the data frame (excluding all missing values).\n"
      ]
    },
    {
      "cell_type": "code",
      "execution_count": 29,
      "metadata": {
        "colab": {
          "base_uri": "https://localhost:8080/"
        },
        "id": "NnaBB7DzG6RL",
        "outputId": "fcfb608a-9038-4ec7-8e83-261871c6ada0"
      },
      "outputs": [
        {
          "data": {
            "text/plain": [
              "[32.98788451443395,\n",
              " 90.05842222838167,\n",
              " 3.5230013522125962,\n",
              " 9.465269740971456,\n",
              " 1.4165224840123147,\n",
              " 8.864520368425419]"
            ]
          },
          "execution_count": 29,
          "metadata": {},
          "output_type": "execute_result"
        }
      ],
      "source": [
        "res = [df[column].std(skipna=True) for column in list(df.columns)]\n",
        "\n",
        "res"
      ]
    },
    {
      "cell_type": "markdown",
      "metadata": {
        "id": "OEOgOzHJ7JLb"
      },
      "source": [
        "Question 11. Calculate the mean of “Ozone” for each Month in the data frame and create a\n",
        "vector containing the monthly means (exclude all missing values)."
      ]
    },
    {
      "cell_type": "code",
      "execution_count": 37,
      "metadata": {
        "colab": {
          "base_uri": "https://localhost:8080/"
        },
        "id": "Agsdlk5IZ5ik",
        "outputId": "ba27e329-2751-4549-f536-2418a84b6871"
      },
      "outputs": [
        {
          "data": {
            "text/plain": [
              "Month\n",
              "5    23.615385\n",
              "6    29.444444\n",
              "7    59.115385\n",
              "8    59.961538\n",
              "9    31.448276\n",
              "Name: Ozone, dtype: float64"
            ]
          },
          "execution_count": 37,
          "metadata": {},
          "output_type": "execute_result"
        }
      ],
      "source": [
        "df.groupby(by=[\"Month\"], dropna=True)['Ozone'].mean()"
      ]
    },
    {
      "cell_type": "markdown",
      "metadata": {
        "id": "lN4T8VYy7K7r"
      },
      "source": [
        "Question 12. Draw a random sample of 5 rows from the data frame"
      ]
    },
    {
      "cell_type": "code",
      "execution_count": 38,
      "metadata": {
        "colab": {
          "base_uri": "https://localhost:8080/"
        },
        "id": "2sJTdiMtclwX",
        "outputId": "0a8bc8d5-be3b-4f33-cdae-fc2fa60e42fd"
      },
      "outputs": [
        {
          "data": {
            "text/html": [
              "<div>\n",
              "<style scoped>\n",
              "    .dataframe tbody tr th:only-of-type {\n",
              "        vertical-align: middle;\n",
              "    }\n",
              "\n",
              "    .dataframe tbody tr th {\n",
              "        vertical-align: top;\n",
              "    }\n",
              "\n",
              "    .dataframe thead th {\n",
              "        text-align: right;\n",
              "    }\n",
              "</style>\n",
              "<table border=\"1\" class=\"dataframe\">\n",
              "  <thead>\n",
              "    <tr style=\"text-align: right;\">\n",
              "      <th></th>\n",
              "      <th>Ozone</th>\n",
              "      <th>Solar.R</th>\n",
              "      <th>Wind</th>\n",
              "      <th>Temp</th>\n",
              "      <th>Month</th>\n",
              "      <th>Day</th>\n",
              "    </tr>\n",
              "  </thead>\n",
              "  <tbody>\n",
              "    <tr>\n",
              "      <th>135</th>\n",
              "      <td>28.0</td>\n",
              "      <td>238.0</td>\n",
              "      <td>6.3</td>\n",
              "      <td>77</td>\n",
              "      <td>9</td>\n",
              "      <td>13</td>\n",
              "    </tr>\n",
              "    <tr>\n",
              "      <th>113</th>\n",
              "      <td>9.0</td>\n",
              "      <td>36.0</td>\n",
              "      <td>14.3</td>\n",
              "      <td>72</td>\n",
              "      <td>8</td>\n",
              "      <td>22</td>\n",
              "    </tr>\n",
              "    <tr>\n",
              "      <th>121</th>\n",
              "      <td>84.0</td>\n",
              "      <td>237.0</td>\n",
              "      <td>6.3</td>\n",
              "      <td>96</td>\n",
              "      <td>8</td>\n",
              "      <td>30</td>\n",
              "    </tr>\n",
              "    <tr>\n",
              "      <th>29</th>\n",
              "      <td>115.0</td>\n",
              "      <td>223.0</td>\n",
              "      <td>5.7</td>\n",
              "      <td>79</td>\n",
              "      <td>5</td>\n",
              "      <td>30</td>\n",
              "    </tr>\n",
              "    <tr>\n",
              "      <th>73</th>\n",
              "      <td>27.0</td>\n",
              "      <td>175.0</td>\n",
              "      <td>14.9</td>\n",
              "      <td>81</td>\n",
              "      <td>7</td>\n",
              "      <td>13</td>\n",
              "    </tr>\n",
              "  </tbody>\n",
              "</table>\n",
              "</div>"
            ],
            "text/plain": [
              "     Ozone  Solar.R  Wind  Temp  Month  Day\n",
              "135   28.0    238.0   6.3    77      9   13\n",
              "113    9.0     36.0  14.3    72      8   22\n",
              "121   84.0    237.0   6.3    96      8   30\n",
              "29   115.0    223.0   5.7    79      5   30\n",
              "73    27.0    175.0  14.9    81      7   13"
            ]
          },
          "execution_count": 38,
          "metadata": {},
          "output_type": "execute_result"
        }
      ],
      "source": [
        "df.sample(5)"
      ]
    }
  ],
  "metadata": {
    "colab": {
      "provenance": []
    },
    "kernelspec": {
      "display_name": "Python 3.9.12 64-bit",
      "language": "python",
      "name": "python3"
    },
    "language_info": {
      "codemirror_mode": {
        "name": "ipython",
        "version": 3
      },
      "file_extension": ".py",
      "mimetype": "text/x-python",
      "name": "python",
      "nbconvert_exporter": "python",
      "pygments_lexer": "ipython3",
      "version": "3.10.8"
    },
    "vscode": {
      "interpreter": {
        "hash": "aee8b7b246df8f9039afb4144a1f6fd8d2ca17a180786b69acc140d282b71a49"
      }
    }
  },
  "nbformat": 4,
  "nbformat_minor": 0
}
